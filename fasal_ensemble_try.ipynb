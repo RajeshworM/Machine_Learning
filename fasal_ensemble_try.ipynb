{
  "nbformat": 4,
  "nbformat_minor": 0,
  "metadata": {
    "colab": {
      "provenance": [],
      "authorship_tag": "ABX9TyNJEcuViCllti4TLAhA/0Sq",
      "include_colab_link": true
    },
    "kernelspec": {
      "name": "python3",
      "display_name": "Python 3"
    },
    "language_info": {
      "name": "python"
    }
  },
  "cells": [
    {
      "cell_type": "markdown",
      "metadata": {
        "id": "view-in-github",
        "colab_type": "text"
      },
      "source": [
        "<a href=\"https://colab.research.google.com/github/RajeshworM/Machine_Learning/blob/main/fasal_ensemble_try.ipynb\" target=\"_parent\"><img src=\"https://colab.research.google.com/assets/colab-badge.svg\" alt=\"Open In Colab\"/></a>"
      ]
    },
    {
      "cell_type": "code",
      "execution_count": 8,
      "metadata": {
        "colab": {
          "base_uri": "https://localhost:8080/"
        },
        "id": "vni5fwpQmSMh",
        "outputId": "811e0a81-e62f-463f-efb6-ca041e1a8467"
      },
      "outputs": [
        {
          "output_type": "stream",
          "name": "stdout",
          "text": [
            "Drive already mounted at /content/drive; to attempt to forcibly remount, call drive.mount(\"/content/drive\", force_remount=True).\n"
          ]
        }
      ],
      "source": [
        "from google.colab import drive\n",
        "drive.mount('/content/drive')"
      ]
    },
    {
      "cell_type": "code",
      "source": [
        "import pandas as pd\n",
        "\n",
        "# Replace with the correct path to your CSV file\n",
        "file_path = '/content/drive/My Drive/fasal_up.csv'\n",
        "\n",
        "# Load the CSV into a pandas DataFrame\n",
        "df = pd.read_csv(file_path)\n",
        "\n",
        "\n",
        "# Replace NaN with 0\n",
        "df.fillna(0, inplace=True)\n",
        "# Show the first few rows of the data\n",
        "df.head()\n"
      ],
      "metadata": {
        "colab": {
          "base_uri": "https://localhost:8080/",
          "height": 256
        },
        "id": "J8vGlCUEmfvo",
        "outputId": "889eeb60-aa9d-40ec-c545-8a3f25adc482"
      },
      "execution_count": 28,
      "outputs": [
        {
          "output_type": "execute_result",
          "data": {
            "text/plain": [
              "   year   yield  price_input1  price_input2  price_input3  price_input4  \\\n",
              "0  2000  1977.0          7.31          6.38          6.30         11.92   \n",
              "1  2001  2118.0          7.44          6.18          6.09         11.06   \n",
              "2  2002  1840.0          7.40          6.37          6.32         10.44   \n",
              "3  2003  2187.0          7.36          6.45          6.40         10.72   \n",
              "4  2004  1789.0          7.42          6.46          6.36         11.40   \n",
              "\n",
              "   price_input5  price_input6  GW_10_MAY  GW_11_MAY  ...  OCT1_MIN_10  \\\n",
              "0         10.40         10.28       5.70       6.70  ...        23.13   \n",
              "1          9.20          9.06       5.98       6.70  ...        23.87   \n",
              "2          8.99          8.92       5.82       7.09  ...        22.53   \n",
              "3          9.39          9.32       6.51       7.20  ...        21.67   \n",
              "4          9.92          9.77       6.13       7.19  ...        22.80   \n",
              "\n",
              "   OCT2_MIN_10  JUL1_MIN_11  JUL2_MIN_11  AUG1_MIN_11  AUG2_MIN_11  \\\n",
              "0        20.44        25.42        24.42        23.60        23.89   \n",
              "1        20.38        25.47        25.00        24.60        25.44   \n",
              "2        19.56        27.67        28.13        23.80        25.63   \n",
              "3        20.44        26.07        25.44        24.40        25.69   \n",
              "4        17.81        25.13        23.38        24.53        25.00   \n",
              "\n",
              "   SEP1_MIN_11  SEP2_MIN_11  OCT1_MIN_11  OCT2_MIN_11  \n",
              "0        24.60        23.13        21.20        19.00  \n",
              "1        24.53        23.00        22.33        18.81  \n",
              "2        25.47        22.67        21.13        18.50  \n",
              "3        25.47        23.60        19.73        16.88  \n",
              "4        25.00        23.00        20.93        16.56  \n",
              "\n",
              "[5 rows x 128 columns]"
            ],
            "text/html": [
              "\n",
              "  <div id=\"df-69381b8d-cb49-4046-bc06-1c4ab37f245c\" class=\"colab-df-container\">\n",
              "    <div>\n",
              "<style scoped>\n",
              "    .dataframe tbody tr th:only-of-type {\n",
              "        vertical-align: middle;\n",
              "    }\n",
              "\n",
              "    .dataframe tbody tr th {\n",
              "        vertical-align: top;\n",
              "    }\n",
              "\n",
              "    .dataframe thead th {\n",
              "        text-align: right;\n",
              "    }\n",
              "</style>\n",
              "<table border=\"1\" class=\"dataframe\">\n",
              "  <thead>\n",
              "    <tr style=\"text-align: right;\">\n",
              "      <th></th>\n",
              "      <th>year</th>\n",
              "      <th>yield</th>\n",
              "      <th>price_input1</th>\n",
              "      <th>price_input2</th>\n",
              "      <th>price_input3</th>\n",
              "      <th>price_input4</th>\n",
              "      <th>price_input5</th>\n",
              "      <th>price_input6</th>\n",
              "      <th>GW_10_MAY</th>\n",
              "      <th>GW_11_MAY</th>\n",
              "      <th>...</th>\n",
              "      <th>OCT1_MIN_10</th>\n",
              "      <th>OCT2_MIN_10</th>\n",
              "      <th>JUL1_MIN_11</th>\n",
              "      <th>JUL2_MIN_11</th>\n",
              "      <th>AUG1_MIN_11</th>\n",
              "      <th>AUG2_MIN_11</th>\n",
              "      <th>SEP1_MIN_11</th>\n",
              "      <th>SEP2_MIN_11</th>\n",
              "      <th>OCT1_MIN_11</th>\n",
              "      <th>OCT2_MIN_11</th>\n",
              "    </tr>\n",
              "  </thead>\n",
              "  <tbody>\n",
              "    <tr>\n",
              "      <th>0</th>\n",
              "      <td>2000</td>\n",
              "      <td>1977.0</td>\n",
              "      <td>7.31</td>\n",
              "      <td>6.38</td>\n",
              "      <td>6.30</td>\n",
              "      <td>11.92</td>\n",
              "      <td>10.40</td>\n",
              "      <td>10.28</td>\n",
              "      <td>5.70</td>\n",
              "      <td>6.70</td>\n",
              "      <td>...</td>\n",
              "      <td>23.13</td>\n",
              "      <td>20.44</td>\n",
              "      <td>25.42</td>\n",
              "      <td>24.42</td>\n",
              "      <td>23.60</td>\n",
              "      <td>23.89</td>\n",
              "      <td>24.60</td>\n",
              "      <td>23.13</td>\n",
              "      <td>21.20</td>\n",
              "      <td>19.00</td>\n",
              "    </tr>\n",
              "    <tr>\n",
              "      <th>1</th>\n",
              "      <td>2001</td>\n",
              "      <td>2118.0</td>\n",
              "      <td>7.44</td>\n",
              "      <td>6.18</td>\n",
              "      <td>6.09</td>\n",
              "      <td>11.06</td>\n",
              "      <td>9.20</td>\n",
              "      <td>9.06</td>\n",
              "      <td>5.98</td>\n",
              "      <td>6.70</td>\n",
              "      <td>...</td>\n",
              "      <td>23.87</td>\n",
              "      <td>20.38</td>\n",
              "      <td>25.47</td>\n",
              "      <td>25.00</td>\n",
              "      <td>24.60</td>\n",
              "      <td>25.44</td>\n",
              "      <td>24.53</td>\n",
              "      <td>23.00</td>\n",
              "      <td>22.33</td>\n",
              "      <td>18.81</td>\n",
              "    </tr>\n",
              "    <tr>\n",
              "      <th>2</th>\n",
              "      <td>2002</td>\n",
              "      <td>1840.0</td>\n",
              "      <td>7.40</td>\n",
              "      <td>6.37</td>\n",
              "      <td>6.32</td>\n",
              "      <td>10.44</td>\n",
              "      <td>8.99</td>\n",
              "      <td>8.92</td>\n",
              "      <td>5.82</td>\n",
              "      <td>7.09</td>\n",
              "      <td>...</td>\n",
              "      <td>22.53</td>\n",
              "      <td>19.56</td>\n",
              "      <td>27.67</td>\n",
              "      <td>28.13</td>\n",
              "      <td>23.80</td>\n",
              "      <td>25.63</td>\n",
              "      <td>25.47</td>\n",
              "      <td>22.67</td>\n",
              "      <td>21.13</td>\n",
              "      <td>18.50</td>\n",
              "    </tr>\n",
              "    <tr>\n",
              "      <th>3</th>\n",
              "      <td>2003</td>\n",
              "      <td>2187.0</td>\n",
              "      <td>7.36</td>\n",
              "      <td>6.45</td>\n",
              "      <td>6.40</td>\n",
              "      <td>10.72</td>\n",
              "      <td>9.39</td>\n",
              "      <td>9.32</td>\n",
              "      <td>6.51</td>\n",
              "      <td>7.20</td>\n",
              "      <td>...</td>\n",
              "      <td>21.67</td>\n",
              "      <td>20.44</td>\n",
              "      <td>26.07</td>\n",
              "      <td>25.44</td>\n",
              "      <td>24.40</td>\n",
              "      <td>25.69</td>\n",
              "      <td>25.47</td>\n",
              "      <td>23.60</td>\n",
              "      <td>19.73</td>\n",
              "      <td>16.88</td>\n",
              "    </tr>\n",
              "    <tr>\n",
              "      <th>4</th>\n",
              "      <td>2004</td>\n",
              "      <td>1789.0</td>\n",
              "      <td>7.42</td>\n",
              "      <td>6.46</td>\n",
              "      <td>6.36</td>\n",
              "      <td>11.40</td>\n",
              "      <td>9.92</td>\n",
              "      <td>9.77</td>\n",
              "      <td>6.13</td>\n",
              "      <td>7.19</td>\n",
              "      <td>...</td>\n",
              "      <td>22.80</td>\n",
              "      <td>17.81</td>\n",
              "      <td>25.13</td>\n",
              "      <td>23.38</td>\n",
              "      <td>24.53</td>\n",
              "      <td>25.00</td>\n",
              "      <td>25.00</td>\n",
              "      <td>23.00</td>\n",
              "      <td>20.93</td>\n",
              "      <td>16.56</td>\n",
              "    </tr>\n",
              "  </tbody>\n",
              "</table>\n",
              "<p>5 rows × 128 columns</p>\n",
              "</div>\n",
              "    <div class=\"colab-df-buttons\">\n",
              "\n",
              "  <div class=\"colab-df-container\">\n",
              "    <button class=\"colab-df-convert\" onclick=\"convertToInteractive('df-69381b8d-cb49-4046-bc06-1c4ab37f245c')\"\n",
              "            title=\"Convert this dataframe to an interactive table.\"\n",
              "            style=\"display:none;\">\n",
              "\n",
              "  <svg xmlns=\"http://www.w3.org/2000/svg\" height=\"24px\" viewBox=\"0 -960 960 960\">\n",
              "    <path d=\"M120-120v-720h720v720H120Zm60-500h600v-160H180v160Zm220 220h160v-160H400v160Zm0 220h160v-160H400v160ZM180-400h160v-160H180v160Zm440 0h160v-160H620v160ZM180-180h160v-160H180v160Zm440 0h160v-160H620v160Z\"/>\n",
              "  </svg>\n",
              "    </button>\n",
              "\n",
              "  <style>\n",
              "    .colab-df-container {\n",
              "      display:flex;\n",
              "      gap: 12px;\n",
              "    }\n",
              "\n",
              "    .colab-df-convert {\n",
              "      background-color: #E8F0FE;\n",
              "      border: none;\n",
              "      border-radius: 50%;\n",
              "      cursor: pointer;\n",
              "      display: none;\n",
              "      fill: #1967D2;\n",
              "      height: 32px;\n",
              "      padding: 0 0 0 0;\n",
              "      width: 32px;\n",
              "    }\n",
              "\n",
              "    .colab-df-convert:hover {\n",
              "      background-color: #E2EBFA;\n",
              "      box-shadow: 0px 1px 2px rgba(60, 64, 67, 0.3), 0px 1px 3px 1px rgba(60, 64, 67, 0.15);\n",
              "      fill: #174EA6;\n",
              "    }\n",
              "\n",
              "    .colab-df-buttons div {\n",
              "      margin-bottom: 4px;\n",
              "    }\n",
              "\n",
              "    [theme=dark] .colab-df-convert {\n",
              "      background-color: #3B4455;\n",
              "      fill: #D2E3FC;\n",
              "    }\n",
              "\n",
              "    [theme=dark] .colab-df-convert:hover {\n",
              "      background-color: #434B5C;\n",
              "      box-shadow: 0px 1px 3px 1px rgba(0, 0, 0, 0.15);\n",
              "      filter: drop-shadow(0px 1px 2px rgba(0, 0, 0, 0.3));\n",
              "      fill: #FFFFFF;\n",
              "    }\n",
              "  </style>\n",
              "\n",
              "    <script>\n",
              "      const buttonEl =\n",
              "        document.querySelector('#df-69381b8d-cb49-4046-bc06-1c4ab37f245c button.colab-df-convert');\n",
              "      buttonEl.style.display =\n",
              "        google.colab.kernel.accessAllowed ? 'block' : 'none';\n",
              "\n",
              "      async function convertToInteractive(key) {\n",
              "        const element = document.querySelector('#df-69381b8d-cb49-4046-bc06-1c4ab37f245c');\n",
              "        const dataTable =\n",
              "          await google.colab.kernel.invokeFunction('convertToInteractive',\n",
              "                                                    [key], {});\n",
              "        if (!dataTable) return;\n",
              "\n",
              "        const docLinkHtml = 'Like what you see? Visit the ' +\n",
              "          '<a target=\"_blank\" href=https://colab.research.google.com/notebooks/data_table.ipynb>data table notebook</a>'\n",
              "          + ' to learn more about interactive tables.';\n",
              "        element.innerHTML = '';\n",
              "        dataTable['output_type'] = 'display_data';\n",
              "        await google.colab.output.renderOutput(dataTable, element);\n",
              "        const docLink = document.createElement('div');\n",
              "        docLink.innerHTML = docLinkHtml;\n",
              "        element.appendChild(docLink);\n",
              "      }\n",
              "    </script>\n",
              "  </div>\n",
              "\n",
              "\n",
              "<div id=\"df-2276b2ca-dcb5-4651-9257-194923ce7296\">\n",
              "  <button class=\"colab-df-quickchart\" onclick=\"quickchart('df-2276b2ca-dcb5-4651-9257-194923ce7296')\"\n",
              "            title=\"Suggest charts\"\n",
              "            style=\"display:none;\">\n",
              "\n",
              "<svg xmlns=\"http://www.w3.org/2000/svg\" height=\"24px\"viewBox=\"0 0 24 24\"\n",
              "     width=\"24px\">\n",
              "    <g>\n",
              "        <path d=\"M19 3H5c-1.1 0-2 .9-2 2v14c0 1.1.9 2 2 2h14c1.1 0 2-.9 2-2V5c0-1.1-.9-2-2-2zM9 17H7v-7h2v7zm4 0h-2V7h2v10zm4 0h-2v-4h2v4z\"/>\n",
              "    </g>\n",
              "</svg>\n",
              "  </button>\n",
              "\n",
              "<style>\n",
              "  .colab-df-quickchart {\n",
              "      --bg-color: #E8F0FE;\n",
              "      --fill-color: #1967D2;\n",
              "      --hover-bg-color: #E2EBFA;\n",
              "      --hover-fill-color: #174EA6;\n",
              "      --disabled-fill-color: #AAA;\n",
              "      --disabled-bg-color: #DDD;\n",
              "  }\n",
              "\n",
              "  [theme=dark] .colab-df-quickchart {\n",
              "      --bg-color: #3B4455;\n",
              "      --fill-color: #D2E3FC;\n",
              "      --hover-bg-color: #434B5C;\n",
              "      --hover-fill-color: #FFFFFF;\n",
              "      --disabled-bg-color: #3B4455;\n",
              "      --disabled-fill-color: #666;\n",
              "  }\n",
              "\n",
              "  .colab-df-quickchart {\n",
              "    background-color: var(--bg-color);\n",
              "    border: none;\n",
              "    border-radius: 50%;\n",
              "    cursor: pointer;\n",
              "    display: none;\n",
              "    fill: var(--fill-color);\n",
              "    height: 32px;\n",
              "    padding: 0;\n",
              "    width: 32px;\n",
              "  }\n",
              "\n",
              "  .colab-df-quickchart:hover {\n",
              "    background-color: var(--hover-bg-color);\n",
              "    box-shadow: 0 1px 2px rgba(60, 64, 67, 0.3), 0 1px 3px 1px rgba(60, 64, 67, 0.15);\n",
              "    fill: var(--button-hover-fill-color);\n",
              "  }\n",
              "\n",
              "  .colab-df-quickchart-complete:disabled,\n",
              "  .colab-df-quickchart-complete:disabled:hover {\n",
              "    background-color: var(--disabled-bg-color);\n",
              "    fill: var(--disabled-fill-color);\n",
              "    box-shadow: none;\n",
              "  }\n",
              "\n",
              "  .colab-df-spinner {\n",
              "    border: 2px solid var(--fill-color);\n",
              "    border-color: transparent;\n",
              "    border-bottom-color: var(--fill-color);\n",
              "    animation:\n",
              "      spin 1s steps(1) infinite;\n",
              "  }\n",
              "\n",
              "  @keyframes spin {\n",
              "    0% {\n",
              "      border-color: transparent;\n",
              "      border-bottom-color: var(--fill-color);\n",
              "      border-left-color: var(--fill-color);\n",
              "    }\n",
              "    20% {\n",
              "      border-color: transparent;\n",
              "      border-left-color: var(--fill-color);\n",
              "      border-top-color: var(--fill-color);\n",
              "    }\n",
              "    30% {\n",
              "      border-color: transparent;\n",
              "      border-left-color: var(--fill-color);\n",
              "      border-top-color: var(--fill-color);\n",
              "      border-right-color: var(--fill-color);\n",
              "    }\n",
              "    40% {\n",
              "      border-color: transparent;\n",
              "      border-right-color: var(--fill-color);\n",
              "      border-top-color: var(--fill-color);\n",
              "    }\n",
              "    60% {\n",
              "      border-color: transparent;\n",
              "      border-right-color: var(--fill-color);\n",
              "    }\n",
              "    80% {\n",
              "      border-color: transparent;\n",
              "      border-right-color: var(--fill-color);\n",
              "      border-bottom-color: var(--fill-color);\n",
              "    }\n",
              "    90% {\n",
              "      border-color: transparent;\n",
              "      border-bottom-color: var(--fill-color);\n",
              "    }\n",
              "  }\n",
              "</style>\n",
              "\n",
              "  <script>\n",
              "    async function quickchart(key) {\n",
              "      const quickchartButtonEl =\n",
              "        document.querySelector('#' + key + ' button');\n",
              "      quickchartButtonEl.disabled = true;  // To prevent multiple clicks.\n",
              "      quickchartButtonEl.classList.add('colab-df-spinner');\n",
              "      try {\n",
              "        const charts = await google.colab.kernel.invokeFunction(\n",
              "            'suggestCharts', [key], {});\n",
              "      } catch (error) {\n",
              "        console.error('Error during call to suggestCharts:', error);\n",
              "      }\n",
              "      quickchartButtonEl.classList.remove('colab-df-spinner');\n",
              "      quickchartButtonEl.classList.add('colab-df-quickchart-complete');\n",
              "    }\n",
              "    (() => {\n",
              "      let quickchartButtonEl =\n",
              "        document.querySelector('#df-2276b2ca-dcb5-4651-9257-194923ce7296 button');\n",
              "      quickchartButtonEl.style.display =\n",
              "        google.colab.kernel.accessAllowed ? 'block' : 'none';\n",
              "    })();\n",
              "  </script>\n",
              "</div>\n",
              "\n",
              "    </div>\n",
              "  </div>\n"
            ],
            "application/vnd.google.colaboratory.intrinsic+json": {
              "type": "dataframe",
              "variable_name": "df"
            }
          },
          "metadata": {},
          "execution_count": 28
        }
      ]
    },
    {
      "cell_type": "code",
      "source": [
        "#Step 1: Import Libraries\n",
        "import numpy as np\n",
        "import pandas as pd\n",
        "from sklearn.ensemble import RandomForestRegressor\n",
        "from sklearn.linear_model import LinearRegression\n",
        "from sklearn.model_selection import train_test_split\n",
        "from sklearn.metrics import mean_squared_error"
      ],
      "metadata": {
        "id": "bItc4wi8mf74"
      },
      "execution_count": 29,
      "outputs": []
    },
    {
      "cell_type": "code",
      "source": [
        "# Step 1: Define independent and dependent variables\n",
        "X = df.drop(columns=['yield'])  # Independent variables (all except 'yield')\n",
        "y = df['yield']  # Dependent variable (yield)"
      ],
      "metadata": {
        "id": "iGhkZCA5oAJB"
      },
      "execution_count": 30,
      "outputs": []
    },
    {
      "cell_type": "code",
      "source": [
        "# Step 2: Split into training and testing datasets\n",
        "# You can specify the test size; here, we use 30% for testing and 70% for training\n",
        "X_train, X_test, y_train, y_test = train_test_split(X, y, test_size=0.3, random_state=42)"
      ],
      "metadata": {
        "id": "ebEtMT9noDIQ"
      },
      "execution_count": 31,
      "outputs": []
    },
    {
      "cell_type": "code",
      "source": [
        "# Show the split datasets' sizes\n",
        "print(f\"Training data size: {X_train.shape[0]}\")\n",
        "print(f\"Testing data size: {X_test.shape[0]}\")"
      ],
      "metadata": {
        "colab": {
          "base_uri": "https://localhost:8080/"
        },
        "id": "98ZgEfdeoIz4",
        "outputId": "afdc1577-659b-4851-80d8-da66a9e70c78"
      },
      "execution_count": 32,
      "outputs": [
        {
          "output_type": "stream",
          "name": "stdout",
          "text": [
            "Training data size: 17\n",
            "Testing data size: 8\n"
          ]
        }
      ]
    },
    {
      "cell_type": "code",
      "source": [
        "# Optionally, if you want a time-based split based on the 'year' column, you can do:\n",
        "# Assuming you want to train on years 2000-2019 and test on 2020-2024\n",
        "train_data = df[df['year'] <= 2019]\n",
        "test_data = df[df['year'] >= 2020]"
      ],
      "metadata": {
        "id": "LiEMNIMgoI-Y"
      },
      "execution_count": 33,
      "outputs": []
    },
    {
      "cell_type": "code",
      "source": [
        "# Split the training and testing data into X and y\n",
        "X_train_timebased = train_data.drop(columns=['yield'])\n",
        "y_train_timebased = train_data['yield']\n",
        "X_test_timebased = test_data.drop(columns=['yield'])\n",
        "y_test_timebased = test_data['yield']"
      ],
      "metadata": {
        "id": "_Dyq5i_AoJBQ"
      },
      "execution_count": 34,
      "outputs": []
    },
    {
      "cell_type": "code",
      "source": [
        "# ML Model: Random Forest\n",
        "ml_model = RandomForestRegressor(random_state=42)\n",
        "ml_model.fit(X_train_timebased, y_train_timebased)\n",
        "ml_predictions = ml_model.predict(X_test_timebased)\n",
        "\n",
        "\n",
        "# Econometric Model: Linear Regression\n",
        "econometric_model = LinearRegression()\n",
        "econometric_model.fit(X_train_timebased, y_train_timebased)\n",
        "econ_predictions = econometric_model.predict(X_test_timebased)"
      ],
      "metadata": {
        "id": "XnsxjFiHohK5"
      },
      "execution_count": 35,
      "outputs": []
    },
    {
      "cell_type": "code",
      "source": [
        "# Combine predictions using Weighted Averaging\n",
        "weights = [0.6, 0.4]  # Assigning weights to models\n",
        "ensemble_predictions = (weights[0] * ml_predictions +\n",
        "                        weights[1] * econ_predictions)\n",
        "\n",
        "# Evaluate the Ensemble Model\n",
        "mse = mean_squared_error(y_test_timebased, ensemble_predictions)\n",
        "print(f\"Mean Squared Error of Ensemble Model: {mse}\")"
      ],
      "metadata": {
        "colab": {
          "base_uri": "https://localhost:8080/"
        },
        "id": "jxGlEjJ7pFjR",
        "outputId": "2feafb3e-ace2-4ada-9688-a4d89bd1033f"
      },
      "execution_count": 36,
      "outputs": [
        {
          "output_type": "stream",
          "name": "stdout",
          "text": [
            "Mean Squared Error of Ensemble Model: 1277633.5712010274\n"
          ]
        }
      ]
    },
    {
      "cell_type": "code",
      "source": [
        "# Stack predictions as new features\n",
        "stacked_features = np.column_stack((ml_predictions, econ_predictions))\n",
        "\n",
        "# Train a meta-model\n",
        "meta_model = LinearRegression()\n",
        "meta_model.fit(stacked_features, y_test_timebased)\n",
        "final_predictions = meta_model.predict(stacked_features)\n",
        "\n",
        "# Evaluate Stacked Ensemble\n",
        "mse_stacked = mean_squared_error(y_test_timebased, final_predictions)\n",
        "print(f\"Mean Squared Error of Stacked Ensemble Model: {mse_stacked}\")"
      ],
      "metadata": {
        "colab": {
          "base_uri": "https://localhost:8080/"
        },
        "id": "9lGjQU0ApZmY",
        "outputId": "1026e5cd-0dc3-476f-adb5-f0dd93cdef95"
      },
      "execution_count": 38,
      "outputs": [
        {
          "output_type": "stream",
          "name": "stdout",
          "text": [
            "Mean Squared Error of Stacked Ensemble Model: 789663.0259495439\n"
          ]
        }
      ]
    },
    {
      "cell_type": "code",
      "source": [
        "import matplotlib.pyplot as plt\n",
        "\n",
        "# Function to calculate and print MSE for each model\n",
        "def evaluate_models(y_actual, predictions, model_name):\n",
        "    mse = mean_squared_error(y_actual, predictions)\n",
        "    print(f\"MSE for {model_name}: {mse}\")\n",
        "    return mse\n",
        "\n",
        "# Evaluate individual models and the ensemble model\n",
        "ml_mse = evaluate_models(y_test_timebased, ml_predictions, \"ML Model (Random Forest)\")\n",
        "econ_mse = evaluate_models(y_test_timebased, econ_predictions, \"Econometric Model\")\n",
        "ensemble_mse = evaluate_models(y_test_timebased, ensemble_predictions, \"Ensemble Model (Weighted)\")\n",
        "stacked_mse = evaluate_models(y_test_timebased, final_predictions, \"Ensemble Model (Stacked)\")\n",
        "\n",
        "# Scatter plots to compare actual vs. predicted values\n",
        "models = [\n",
        "    (ml_predictions, \"ML Model (Random Forest)\"),\n",
        "    (econ_predictions, \"Econometric Model\"),\n",
        "    (ensemble_predictions, \"Ensemble Model (Weighted)\"),\n",
        "    (final_predictions, \"Ensemble Model (Stacked)\")\n",
        "]\n",
        "\n",
        "plt.figure(figsize=(18, 12))\n",
        "\n",
        "for i, (predictions, title) in enumerate(models, 1):\n",
        "    plt.subplot(2, 3, i)\n",
        "    plt.scatter(y_test_timebased, predictions, alpha=0.7, color='blue')\n",
        "    plt.plot([y_test_timebased.min(), y_test_timebased.max()], [y_test_timebased.min(), y_test_timebased.max()], 'r--')  # Ideal line\n",
        "    plt.title(title)\n",
        "    plt.xlabel(\"Actual Values\")\n",
        "    plt.ylabel(\"Predicted Values\")\n",
        "\n",
        "plt.tight_layout()\n",
        "plt.show()\n",
        "\n",
        "# Conclusion: Compare MSE values and identify the best model\n",
        "mse_values = {\n",
        "    \"ML Model (Random Forest)\": ml_mse,\n",
        "    \"Econometric Model\": econ_mse,\n",
        "    \"Ensemble Model (Weighted)\": ensemble_mse,\n",
        "    \"Ensemble Model (Stacked)\": stacked_mse\n",
        "}\n",
        "\n",
        "best_model = min(mse_values, key=mse_values.get)\n",
        "print(\"\\nConclusion:\")\n",
        "print(f\"The best model is '{best_model}' with the lowest MSE: {mse_values[best_model]}.\")\n"
      ],
      "metadata": {
        "colab": {
          "base_uri": "https://localhost:8080/",
          "height": 1000
        },
        "id": "oqFmznXvqrti",
        "outputId": "ac63315f-fcc2-4f40-b68f-cf9dac5cc464"
      },
      "execution_count": 39,
      "outputs": [
        {
          "output_type": "stream",
          "name": "stdout",
          "text": [
            "MSE for ML Model (Random Forest): 1229843.5680000002\n",
            "MSE for Econometric Model: 1428754.3817994697\n",
            "MSE for Ensemble Model (Weighted): 1277633.5712010274\n",
            "MSE for Ensemble Model (Stacked): 789663.0259495439\n"
          ]
        },
        {
          "output_type": "display_data",
          "data": {
            "text/plain": [
              "<Figure size 1800x1200 with 4 Axes>"
            ],
            "image/png": "[encoded data removed]"
          },
          "metadata": {}
        },
        {
          "output_type": "stream",
          "name": "stdout",
          "text": [
            "\n",
            "Conclusion:\n",
            "The best model is 'Ensemble Model (Stacked)' with the lowest MSE: 789663.0259495439.\n"
          ]
        }
      ]
    }
  ]
}